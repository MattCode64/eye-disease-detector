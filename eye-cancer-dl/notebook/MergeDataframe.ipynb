{
 "cells": [
  {
   "cell_type": "code",
   "execution_count": 17,
   "id": "initial_id",
   "metadata": {
    "collapsed": true,
    "ExecuteTime": {
     "end_time": "2023-10-13T12:16:20.686427100Z",
     "start_time": "2023-10-13T12:16:20.678586Z"
    }
   },
   "outputs": [
    {
     "name": "stdout",
     "output_type": "stream",
     "text": [
      "--- IMPORT DONE ---\n"
     ]
    }
   ],
   "source": [
    "import pandas as pd\n",
    "\n",
    "print(\"--- IMPORT DONE ---\")"
   ]
  },
  {
   "cell_type": "code",
   "execution_count": 18,
   "outputs": [],
   "source": [
    "# Path variables for validation, test and train csv files\n",
    "val_path = r\"C:\\Data\\Projet CODE\\Code Python\\DataCamp Code\\data\\eyes-dataset\\Evaluation_Set\\Evaluation_Set\\RFMiD_Validation_Labels_clean.csv\"\n",
    "test_path = r\"C:\\Data\\Projet CODE\\Code Python\\DataCamp Code\\data\\eyes-dataset\\Test_Set\\Test_Set\\RFMiD_Testing_Labels_clean.csv\"\n",
    "train_path = r\"C:\\Data\\Projet CODE\\Code Python\\DataCamp Code\\data\\eyes-dataset\\Training_Set\\Training_Set\\RFMiD_Training_Labels_clean.csv\""
   ],
   "metadata": {
    "collapsed": false,
    "ExecuteTime": {
     "end_time": "2023-10-13T12:16:21.859565600Z",
     "start_time": "2023-10-13T12:16:21.851586500Z"
    }
   },
   "id": "c9498dd24c2e58a"
  },
  {
   "cell_type": "code",
   "execution_count": 19,
   "outputs": [
    {
     "name": "stdout",
     "output_type": "stream",
     "text": [
      "Validation shape:  (548, 47)\n",
      "Test shape:  (512, 47)\n",
      "Train shape:  (1643, 47)\n"
     ]
    }
   ],
   "source": [
    "# Show shape of each csv file\n",
    "val_df = pd.read_csv(val_path)\n",
    "test_df = pd.read_csv(test_path)\n",
    "train_df = pd.read_csv(train_path)\n",
    "\n",
    "print(\"Validation shape: \", val_df.shape)\n",
    "print(\"Test shape: \", test_df.shape)\n",
    "print(\"Train shape: \", train_df.shape)"
   ],
   "metadata": {
    "collapsed": false,
    "ExecuteTime": {
     "end_time": "2023-10-13T12:16:23.028422200Z",
     "start_time": "2023-10-13T12:16:23.011546700Z"
    }
   },
   "id": "d32ece969a6d6b4e"
  },
  {
   "cell_type": "code",
   "execution_count": 20,
   "outputs": [],
   "source": [
    "# Path variables for validation, test and train pixels data csv files\n",
    "val_pixel_path = r\"C:\\Data\\Projet CODE\\Code Python\\DataCamp Code\\data\\eyes-dataset\\Evaluation_Set\\Evaluation_Set\\ValidationSet.csv\"\n",
    "\n",
    "test_pixel_path = r\"C:\\Data\\Projet CODE\\Code Python\\DataCamp Code\\data\\eyes-dataset\\Test_Set\\Test_Set\\TestSet.csv\"\n",
    "\n",
    "train_pixel_path = r\"C:\\Data\\Projet CODE\\Code Python\\DataCamp Code\\data\\eyes-dataset\\Training_Set\\Training_Set\\TrainingSet.csv\""
   ],
   "metadata": {
    "collapsed": false,
    "ExecuteTime": {
     "end_time": "2023-10-13T12:16:24.346266700Z",
     "start_time": "2023-10-13T12:16:24.338746300Z"
    }
   },
   "id": "662827b96d2e5dc6"
  },
  {
   "cell_type": "code",
   "execution_count": 21,
   "outputs": [
    {
     "name": "stdout",
     "output_type": "stream",
     "text": [
      "Validation shape:  (548, 2)\n",
      "Test shape:  (512, 2)\n",
      "Train shape:  (1643, 2)\n"
     ]
    }
   ],
   "source": [
    "# Show shape of each csv file\n",
    "val_pixel_df = pd.read_csv(val_pixel_path)\n",
    "test_pixel_df = pd.read_csv(test_pixel_path)\n",
    "train_pixel_df = pd.read_csv(train_pixel_path)\n",
    "\n",
    "print(\"Validation shape: \", val_pixel_df.shape)\n",
    "print(\"Test shape: \", test_pixel_df.shape)\n",
    "print(\"Train shape: \", train_pixel_df.shape)"
   ],
   "metadata": {
    "collapsed": false,
    "ExecuteTime": {
     "end_time": "2023-10-13T12:16:25.704053400Z",
     "start_time": "2023-10-13T12:16:25.677579800Z"
    }
   },
   "id": "429f5d364e14fd1a"
  },
  {
   "cell_type": "code",
   "execution_count": 22,
   "outputs": [],
   "source": [
    "# Merge each dataframe with its corresponding 'ID' column\n",
    "val_df = pd.merge(val_df, val_pixel_df, on='ID')\n",
    "test_df = pd.merge(test_df, test_pixel_df, on='ID')\n",
    "train_df = pd.merge(train_df, train_pixel_df, on='ID')"
   ],
   "metadata": {
    "collapsed": false,
    "ExecuteTime": {
     "end_time": "2023-10-13T12:16:27.132998500Z",
     "start_time": "2023-10-13T12:16:27.123593100Z"
    }
   },
   "id": "fc0b86e73727081b"
  },
  {
   "cell_type": "code",
   "execution_count": 23,
   "outputs": [
    {
     "name": "stdout",
     "output_type": "stream",
     "text": [
      "Validation shape:  (548, 48)\n",
      "Test shape:  (512, 48)\n",
      "Train shape:  (1643, 48)\n"
     ]
    }
   ],
   "source": [
    "# Shape of each dataframe after merging\n",
    "print(\"Validation shape: \", val_df.shape)\n",
    "print(\"Test shape: \", test_df.shape)\n",
    "print(\"Train shape: \", train_df.shape)"
   ],
   "metadata": {
    "collapsed": false,
    "ExecuteTime": {
     "end_time": "2023-10-13T12:16:28.577174700Z",
     "start_time": "2023-10-13T12:16:28.568655400Z"
    }
   },
   "id": "8802037b1448caef"
  },
  {
   "cell_type": "code",
   "execution_count": 24,
   "outputs": [],
   "source": [
    "# Save each dataframe to a csv file\n",
    "val_df.to_csv(r\"C:\\Data\\Projet CODE\\Code Python\\DataCamp Code\\data\\eyes-dataset\\Evaluation_Set\\Evaluation_Set\\Validation_Data.csv\", index=False, sep=',')\n",
    "test_df.to_csv(r\"C:\\Data\\Projet CODE\\Code Python\\DataCamp Code\\data\\eyes-dataset\\Test_Set\\Test_Set\\Test_Data.csv\", index=False, sep=',')\n",
    "train_df.to_csv(r\"C:\\Data\\Projet CODE\\Code Python\\DataCamp Code\\data\\eyes-dataset\\Training_Set\\Training_Set\\Train_Data.csv\", index=False, sep=',')"
   ],
   "metadata": {
    "collapsed": false,
    "ExecuteTime": {
     "end_time": "2023-10-13T12:17:42.907490800Z",
     "start_time": "2023-10-13T12:17:42.865436100Z"
    }
   },
   "id": "e5f89500033d4ff"
  },
  {
   "cell_type": "code",
   "execution_count": null,
   "outputs": [],
   "source": [],
   "metadata": {
    "collapsed": false
   },
   "id": "91faf8e16f769d5e"
  },
  {
   "cell_type": "code",
   "execution_count": null,
   "outputs": [],
   "source": [],
   "metadata": {
    "collapsed": false
   },
   "id": "58ad671f3d442732"
  }
 ],
 "metadata": {
  "kernelspec": {
   "display_name": "Python 3",
   "language": "python",
   "name": "python3"
  },
  "language_info": {
   "codemirror_mode": {
    "name": "ipython",
    "version": 2
   },
   "file_extension": ".py",
   "mimetype": "text/x-python",
   "name": "python",
   "nbconvert_exporter": "python",
   "pygments_lexer": "ipython2",
   "version": "2.7.6"
  }
 },
 "nbformat": 4,
 "nbformat_minor": 5
}
