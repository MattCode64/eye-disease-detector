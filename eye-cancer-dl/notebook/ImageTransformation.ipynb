{
 "cells": [
  {
   "cell_type": "code",
   "execution_count": 2,
   "outputs": [
    {
     "name": "stdout",
     "output_type": "stream",
     "text": [
      "--- IMPORT DONE ---\n"
     ]
    }
   ],
   "source": [
    "import pandas as pd\n",
    "\n",
    "print(\"--- IMPORT DONE ---\")"
   ],
   "metadata": {
    "collapsed": false,
    "ExecuteTime": {
     "end_time": "2023-10-13T08:27:17.039034200Z",
     "start_time": "2023-10-13T08:27:17.029030Z"
    }
   },
   "id": "d3d2e4b0ba700d7b"
  },
  {
   "cell_type": "markdown",
   "source": [
    "---\n",
    "# DATA IMPORT"
   ],
   "metadata": {
    "collapsed": false
   },
   "id": "8d709403f64f90b8"
  },
  {
   "cell_type": "code",
   "execution_count": 3,
   "outputs": [],
   "source": [
    "# Path of each csv file for training, test and validation\n",
    "train_path = r\"C:\\Data\\Projet CODE\\Code Python\\DataCamp Code\\data\\eyes-dataset\\Training_Set\\Training_Set\\TrainingSet.csv\"\n",
    "\n",
    "test_path = r\"C:\\Data\\Projet CODE\\Code Python\\DataCamp Code\\data\\eyes-dataset\\Test_Set\\Test_Set\\TestSet.csv\"\n",
    "\n",
    "val_path = r\"C:\\Data\\Projet CODE\\Code Python\\DataCamp Code\\data\\eyes-dataset\\Evaluation_Set\\Evaluation_Set\\ValidationSet.csv\""
   ],
   "metadata": {
    "collapsed": false,
    "ExecuteTime": {
     "end_time": "2023-10-13T08:27:20.105891100Z",
     "start_time": "2023-10-13T08:27:20.095886100Z"
    }
   },
   "id": "a9cc12c853124cfa"
  },
  {
   "cell_type": "code",
   "execution_count": 4,
   "outputs": [],
   "source": [
    "# Read each csv file on a dataframe with sep = \",\"\n",
    "train_df = pd.read_csv(train_path, sep=\",\")\n",
    "test_df = pd.read_csv(test_path, sep=\",\")\n",
    "val_df = pd.read_csv(val_path, sep=\",\")"
   ],
   "metadata": {
    "collapsed": false,
    "ExecuteTime": {
     "end_time": "2023-10-13T08:27:51.124448300Z",
     "start_time": "2023-10-13T08:27:51.048912300Z"
    }
   },
   "id": "243f2ff8c0b252a8"
  },
  {
   "cell_type": "markdown",
   "source": [
    "---\n",
    "# DATA EXPLORATION"
   ],
   "metadata": {
    "collapsed": false
   },
   "id": "f309b0d9196284b1"
  },
  {
   "cell_type": "code",
   "execution_count": 6,
   "outputs": [
    {
     "name": "stdout",
     "output_type": "stream",
     "text": [
      "ID            0\n",
      "Pixel_data    0\n",
      "dtype: int64\n",
      "ID            0\n",
      "Pixel_data    0\n",
      "dtype: int64\n",
      "ID            0\n",
      "Pixel_data    0\n",
      "dtype: int64\n"
     ]
    }
   ],
   "source": [
    "# Check if there is null values on each dataframe\n",
    "print(train_df.isnull().sum())\n",
    "print(test_df.isnull().sum())\n",
    "print(val_df.isnull().sum())"
   ],
   "metadata": {
    "collapsed": false,
    "ExecuteTime": {
     "end_time": "2023-10-13T08:28:39.922980Z",
     "start_time": "2023-10-13T08:28:39.912420800Z"
    }
   },
   "id": "4a475e78d9898712"
  },
  {
   "cell_type": "code",
   "execution_count": 7,
   "outputs": [
    {
     "name": "stdout",
     "output_type": "stream",
     "text": [
      "(1643, 2)\n",
      "(512, 2)\n",
      "(548, 2)\n"
     ]
    }
   ],
   "source": [
    "# Check the shape of each dataframe\n",
    "print(train_df.shape)\n",
    "print(test_df.shape)\n",
    "print(val_df.shape)"
   ],
   "metadata": {
    "collapsed": false,
    "ExecuteTime": {
     "end_time": "2023-10-13T08:28:51.835523400Z",
     "start_time": "2023-10-13T08:28:51.835523400Z"
    }
   },
   "id": "8ce90c635aa89dc8"
  },
  {
   "cell_type": "markdown",
   "source": [
    "### We can see that test and shape have not anymore the same shape also the same number of images."
   ],
   "metadata": {
    "collapsed": false
   },
   "id": "5975cf48c19f82c9"
  },
  {
   "cell_type": "code",
   "execution_count": null,
   "outputs": [],
   "source": [],
   "metadata": {
    "collapsed": false
   },
   "id": "5d515bf236a5bdd7"
  },
  {
   "cell_type": "code",
   "execution_count": null,
   "outputs": [],
   "source": [],
   "metadata": {
    "collapsed": false
   },
   "id": "29e277f859258106"
  },
  {
   "cell_type": "code",
   "execution_count": null,
   "outputs": [],
   "source": [],
   "metadata": {
    "collapsed": false
   },
   "id": "cb43cb34dbaddcef"
  }
 ],
 "metadata": {
  "kernelspec": {
   "display_name": "Python 3",
   "language": "python",
   "name": "python3"
  },
  "language_info": {
   "codemirror_mode": {
    "name": "ipython",
    "version": 2
   },
   "file_extension": ".py",
   "mimetype": "text/x-python",
   "name": "python",
   "nbconvert_exporter": "python",
   "pygments_lexer": "ipython2",
   "version": "2.7.6"
  }
 },
 "nbformat": 4,
 "nbformat_minor": 5
}
