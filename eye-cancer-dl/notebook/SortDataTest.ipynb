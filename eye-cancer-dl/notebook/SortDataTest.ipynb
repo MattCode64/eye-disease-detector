{
 "cells": [
  {
   "cell_type": "code",
   "execution_count": 1,
   "id": "initial_id",
   "metadata": {
    "collapsed": true,
    "ExecuteTime": {
     "end_time": "2023-10-28T10:03:08.065400Z",
     "start_time": "2023-10-28T10:03:07.626266300Z"
    }
   },
   "outputs": [],
   "source": [
    "import pandas as pd\n",
    "from PIL import Image\n",
    "import os"
   ]
  },
  {
   "cell_type": "markdown",
   "source": [
    "# Data treatment notebook for images train test and validation\n",
    "\n",
    "### This notebook allow every images from train, test or validation folders to be sorted by resolution and also by their Disease_risk number from the dataframe.\n",
    "### It provides us well sorted images to make easier our training."
   ],
   "metadata": {
    "collapsed": false
   },
   "id": "24a3321143c1c8f5"
  },
  {
   "cell_type": "code",
   "execution_count": 3,
   "outputs": [
    {
     "name": "stdout",
     "output_type": "stream",
     "text": [
      "(640, 47)\n",
      "Disease_Risk\n",
      "1    506\n",
      "0    134\n",
      "Name: count, dtype: int64\n"
     ]
    }
   ],
   "source": [
    "test_path = r\"C:\\Data\\Projet CODE\\Code Python\\DataCamp Code\\data\\preparing_model\\RFMiD_Testing_Labels.csv\"\n",
    "folder_images_test = r\"C:\\Data\\Projet CODE\\Code Python\\DataCamp Code\\data\\preparing_model\\images_test\"\n",
    "\n",
    "# read data\n",
    "df_test = pd.read_csv(test_path)\n",
    "print(df_test.shape)\n",
    "# Print value counts on 'Disease_Risk'\n",
    "print(df_test['Disease_Risk'].value_counts())"
   ],
   "metadata": {
    "collapsed": false,
    "ExecuteTime": {
     "end_time": "2023-10-28T10:04:16.558972900Z",
     "start_time": "2023-10-28T10:04:16.531459200Z"
    }
   },
   "id": "2cf87333c781a78b"
  },
  {
   "cell_type": "code",
   "execution_count": 5,
   "outputs": [
    {
     "name": "stdout",
     "output_type": "stream",
     "text": [
      "1.png (2144, 1424)\n",
      "10.png (2144, 1424)\n",
      "100.png (2144, 1424)\n",
      "101.png (2144, 1424)\n",
      "102.png (2144, 1424)\n",
      "103.png (2144, 1424)\n",
      "104.png (2144, 1424)\n",
      "105.png (2144, 1424)\n",
      "106.png (2144, 1424)\n",
      "107.png (2144, 1424)\n",
      "108.png (2144, 1424)\n",
      "109.png (2144, 1424)\n",
      "11.png (2144, 1424)\n",
      "110.png (2144, 1424)\n",
      "111.png (2144, 1424)\n",
      "112.png (2144, 1424)\n",
      "113.png (2144, 1424)\n",
      "114.png (2144, 1424)\n",
      "115.png (2144, 1424)\n",
      "116.png (2144, 1424)\n",
      "117.png (2144, 1424)\n",
      "118.png (2144, 1424)\n",
      "119.png (2144, 1424)\n",
      "12.png (2144, 1424)\n",
      "120.png (2144, 1424)\n",
      "121.png (2144, 1424)\n",
      "122.png (2144, 1424)\n",
      "123.png (2144, 1424)\n",
      "124.png (2144, 1424)\n",
      "125.png (2144, 1424)\n",
      "126.png (2144, 1424)\n",
      "127.png (2144, 1424)\n",
      "128.png (2144, 1424)\n",
      "129.png (2144, 1424)\n",
      "13.png (2144, 1424)\n",
      "130.png (2144, 1424)\n",
      "131.png (2144, 1424)\n",
      "132.png (2144, 1424)\n",
      "133.png (2144, 1424)\n",
      "134.png (2144, 1424)\n",
      "135.png (2144, 1424)\n",
      "136.png (2144, 1424)\n",
      "137.png (2144, 1424)\n",
      "138.png (2144, 1424)\n",
      "139.png (2144, 1424)\n",
      "14.png (2144, 1424)\n",
      "140.png (2144, 1424)\n",
      "141.png (2144, 1424)\n",
      "142.png (2144, 1424)\n",
      "143.png (2144, 1424)\n",
      "144.png (2144, 1424)\n",
      "145.png (2144, 1424)\n",
      "146.png (2144, 1424)\n",
      "147.png (2144, 1424)\n",
      "148.png (2144, 1424)\n",
      "149.png (2144, 1424)\n",
      "15.png (2144, 1424)\n",
      "150.png (2144, 1424)\n",
      "151.png (2144, 1424)\n",
      "152.png (2144, 1424)\n",
      "153.png (2144, 1424)\n",
      "154.png (2144, 1424)\n",
      "155.png (2144, 1424)\n",
      "156.png (2144, 1424)\n",
      "157.png (2144, 1424)\n",
      "158.png (2144, 1424)\n",
      "159.png (2144, 1424)\n",
      "16.png (2144, 1424)\n",
      "160.png (2144, 1424)\n",
      "161.png (2144, 1424)\n",
      "162.png (2144, 1424)\n",
      "163.png (2144, 1424)\n",
      "164.png (2144, 1424)\n",
      "165.png (2144, 1424)\n",
      "166.png (2144, 1424)\n",
      "167.png (2144, 1424)\n",
      "168.png (2144, 1424)\n",
      "169.png (2144, 1424)\n",
      "17.png (2144, 1424)\n",
      "170.png (2144, 1424)\n",
      "171.png (2144, 1424)\n",
      "172.png (2144, 1424)\n",
      "173.png (2144, 1424)\n",
      "174.png (2144, 1424)\n",
      "175.png (2144, 1424)\n",
      "176.png (2144, 1424)\n",
      "177.png (2144, 1424)\n",
      "178.png (2144, 1424)\n",
      "179.png (2144, 1424)\n",
      "18.png (2144, 1424)\n",
      "180.png (2144, 1424)\n",
      "181.png (2144, 1424)\n",
      "182.png (2144, 1424)\n",
      "183.png (2144, 1424)\n",
      "184.png (2144, 1424)\n",
      "185.png (2144, 1424)\n",
      "186.png (2144, 1424)\n",
      "187.png (2144, 1424)\n",
      "188.png (2144, 1424)\n",
      "189.png (2144, 1424)\n",
      "19.png (2144, 1424)\n",
      "190.png (2144, 1424)\n",
      "191.png (2144, 1424)\n",
      "192.png (2144, 1424)\n",
      "193.png (2144, 1424)\n",
      "194.png (2144, 1424)\n",
      "195.png (2144, 1424)\n",
      "196.png (2144, 1424)\n",
      "197.png (2144, 1424)\n",
      "198.png (2144, 1424)\n",
      "199.png (2144, 1424)\n",
      "2.png (2144, 1424)\n",
      "20.png (2144, 1424)\n",
      "200.png (2144, 1424)\n",
      "201.png (2144, 1424)\n",
      "202.png (2144, 1424)\n",
      "203.png (2144, 1424)\n",
      "204.png (2144, 1424)\n",
      "205.png (2144, 1424)\n",
      "206.png (2144, 1424)\n",
      "207.png (2144, 1424)\n",
      "208.png (2144, 1424)\n",
      "209.png (2144, 1424)\n",
      "21.png (2144, 1424)\n",
      "210.png (2144, 1424)\n",
      "211.png (2144, 1424)\n",
      "212.png (2144, 1424)\n",
      "213.png (2144, 1424)\n",
      "214.png (2144, 1424)\n",
      "215.png (2144, 1424)\n",
      "216.png (2144, 1424)\n",
      "217.png (2144, 1424)\n",
      "218.png (2144, 1424)\n",
      "219.png (2144, 1424)\n",
      "22.png (2144, 1424)\n",
      "220.png (2144, 1424)\n",
      "221.png (2144, 1424)\n",
      "222.png (2144, 1424)\n",
      "223.png (2144, 1424)\n",
      "224.png (2144, 1424)\n",
      "225.png (2144, 1424)\n",
      "226.png (2144, 1424)\n",
      "227.png (2144, 1424)\n",
      "228.png (2144, 1424)\n",
      "229.png (2144, 1424)\n",
      "23.png (2144, 1424)\n",
      "230.png (2144, 1424)\n",
      "231.png (2144, 1424)\n",
      "232.png (2144, 1424)\n",
      "233.png (2144, 1424)\n",
      "234.png (2144, 1424)\n",
      "235.png (2144, 1424)\n",
      "236.png (2144, 1424)\n",
      "237.png (2144, 1424)\n",
      "238.png (2144, 1424)\n",
      "239.png (2144, 1424)\n",
      "24.png (2144, 1424)\n",
      "240.png (2144, 1424)\n",
      "241.png (2144, 1424)\n",
      "242.png (2144, 1424)\n",
      "243.png (2144, 1424)\n",
      "244.png (2144, 1424)\n",
      "245.png (2144, 1424)\n",
      "246.png (2144, 1424)\n",
      "247.png (2144, 1424)\n",
      "248.png (2144, 1424)\n",
      "249.png (2144, 1424)\n",
      "25.png (2144, 1424)\n",
      "250.png (2144, 1424)\n",
      "251.png (2144, 1424)\n",
      "252.png (2144, 1424)\n",
      "253.png (2144, 1424)\n",
      "254.png (2144, 1424)\n",
      "255.png (2144, 1424)\n",
      "256.png (2144, 1424)\n",
      "257.png (2144, 1424)\n",
      "258.png (2144, 1424)\n",
      "259.png (2144, 1424)\n",
      "26.png (2144, 1424)\n",
      "260.png (2144, 1424)\n",
      "261.png (2144, 1424)\n",
      "262.png (2144, 1424)\n",
      "263.png (2144, 1424)\n",
      "264.png (2144, 1424)\n",
      "265.png (2144, 1424)\n",
      "266.png (2144, 1424)\n",
      "267.png (2144, 1424)\n",
      "268.png (2144, 1424)\n",
      "269.png (2144, 1424)\n",
      "27.png (2144, 1424)\n",
      "270.png (2144, 1424)\n",
      "271.png (2144, 1424)\n",
      "272.png (2144, 1424)\n",
      "273.png (2144, 1424)\n",
      "274.png (2144, 1424)\n",
      "275.png (2144, 1424)\n",
      "276.png (2144, 1424)\n",
      "277.png (2144, 1424)\n",
      "278.png (2144, 1424)\n",
      "279.png (2144, 1424)\n",
      "28.png (2144, 1424)\n",
      "280.png (2144, 1424)\n",
      "281.png (2144, 1424)\n",
      "282.png (2144, 1424)\n",
      "283.png (2144, 1424)\n",
      "284.png (2144, 1424)\n",
      "285.png (2144, 1424)\n",
      "286.png (2144, 1424)\n",
      "287.png (2144, 1424)\n",
      "288.png (2144, 1424)\n",
      "289.png (2144, 1424)\n",
      "29.png (2144, 1424)\n",
      "290.png (2144, 1424)\n",
      "291.png (2144, 1424)\n",
      "292.png (2144, 1424)\n",
      "293.png (2144, 1424)\n",
      "294.png (2144, 1424)\n",
      "295.png (2144, 1424)\n",
      "296.png (2144, 1424)\n",
      "297.png (2144, 1424)\n",
      "298.png (2144, 1424)\n",
      "299.png (2144, 1424)\n",
      "3.png (2144, 1424)\n",
      "30.png (2144, 1424)\n",
      "300.png (2144, 1424)\n",
      "301.png (2144, 1424)\n",
      "302.png (2144, 1424)\n",
      "303.png (2144, 1424)\n",
      "304.png (2144, 1424)\n",
      "305.png (2144, 1424)\n",
      "306.png (2144, 1424)\n",
      "307.png (2144, 1424)\n",
      "308.png (2144, 1424)\n",
      "309.png (2144, 1424)\n",
      "31.png (2144, 1424)\n",
      "310.png (2144, 1424)\n",
      "311.png (2144, 1424)\n",
      "312.png (2144, 1424)\n",
      "313.png (2144, 1424)\n",
      "314.png (2144, 1424)\n",
      "315.png (2144, 1424)\n",
      "316.png (2144, 1424)\n",
      "317.png (2144, 1424)\n",
      "318.png (2144, 1424)\n",
      "319.png (2144, 1424)\n",
      "32.png (2144, 1424)\n",
      "320.png (2144, 1424)\n",
      "321.png (2144, 1424)\n",
      "322.png (2144, 1424)\n",
      "323.png (2144, 1424)\n",
      "324.png (2144, 1424)\n",
      "325.png (2144, 1424)\n",
      "326.png (2144, 1424)\n",
      "327.png (2144, 1424)\n",
      "328.png (2144, 1424)\n",
      "329.png (2144, 1424)\n",
      "33.png (2144, 1424)\n",
      "330.png (2144, 1424)\n",
      "331.png (2144, 1424)\n",
      "332.png (2144, 1424)\n",
      "333.png (2144, 1424)\n",
      "334.png (2144, 1424)\n",
      "335.png (2144, 1424)\n",
      "336.png (2144, 1424)\n",
      "337.png (2144, 1424)\n",
      "338.png (2144, 1424)\n",
      "339.png (2144, 1424)\n",
      "34.png (2144, 1424)\n",
      "340.png (2144, 1424)\n",
      "341.png (2144, 1424)\n",
      "342.png (2144, 1424)\n",
      "343.png (2144, 1424)\n",
      "344.png (2144, 1424)\n",
      "345.png (2144, 1424)\n",
      "346.png (2144, 1424)\n",
      "347.png (2144, 1424)\n",
      "348.png (2144, 1424)\n",
      "349.png (2144, 1424)\n",
      "35.png (2144, 1424)\n",
      "350.png (2144, 1424)\n",
      "351.png (2144, 1424)\n",
      "352.png (2144, 1424)\n",
      "353.png (2144, 1424)\n",
      "354.png (2144, 1424)\n",
      "355.png (2144, 1424)\n",
      "356.png (2144, 1424)\n",
      "357.png (2144, 1424)\n",
      "358.png (2144, 1424)\n",
      "359.png (2144, 1424)\n",
      "36.png (2144, 1424)\n",
      "360.png (2144, 1424)\n",
      "361.png (2144, 1424)\n",
      "362.png (2144, 1424)\n",
      "363.png (2144, 1424)\n",
      "364.png (2144, 1424)\n",
      "365.png (2144, 1424)\n",
      "366.png (2144, 1424)\n",
      "367.png (2144, 1424)\n",
      "368.png (2144, 1424)\n",
      "369.png (2144, 1424)\n",
      "37.png (2144, 1424)\n",
      "370.png (2144, 1424)\n",
      "371.png (2144, 1424)\n",
      "372.png (2144, 1424)\n",
      "373.png (2144, 1424)\n",
      "374.png (2144, 1424)\n",
      "375.png (2144, 1424)\n",
      "376.png (2144, 1424)\n",
      "377.png (2144, 1424)\n",
      "378.png (2144, 1424)\n",
      "379.png (2144, 1424)\n",
      "38.png (2144, 1424)\n",
      "380.png (2144, 1424)\n",
      "381.png (2144, 1424)\n",
      "382.png (2144, 1424)\n",
      "383.png (2144, 1424)\n",
      "384.png (2144, 1424)\n",
      "385.png (2144, 1424)\n",
      "386.png (2144, 1424)\n",
      "387.png (2144, 1424)\n",
      "388.png (2144, 1424)\n",
      "389.png (2144, 1424)\n",
      "39.png (2144, 1424)\n",
      "390.png (2144, 1424)\n",
      "391.png (2144, 1424)\n",
      "392.png (2144, 1424)\n",
      "393.png (2144, 1424)\n",
      "394.png (2144, 1424)\n",
      "395.png (2144, 1424)\n",
      "396.png (2144, 1424)\n",
      "397.png (2144, 1424)\n",
      "398.png (2144, 1424)\n",
      "399.png (2144, 1424)\n",
      "4.png (2144, 1424)\n",
      "40.png (2144, 1424)\n",
      "400.png (2144, 1424)\n",
      "401.png (2144, 1424)\n",
      "402.png (2144, 1424)\n",
      "403.png (2144, 1424)\n",
      "404.png (2144, 1424)\n",
      "405.png (2144, 1424)\n",
      "406.png (2144, 1424)\n",
      "407.png (2144, 1424)\n",
      "408.png (2144, 1424)\n",
      "409.png (2144, 1424)\n",
      "41.png (2144, 1424)\n",
      "410.png (2144, 1424)\n",
      "411.png (2144, 1424)\n",
      "412.png (2144, 1424)\n",
      "413.png (2144, 1424)\n",
      "414.png (2144, 1424)\n",
      "415.png (2144, 1424)\n",
      "416.png (2144, 1424)\n",
      "417.png (2144, 1424)\n",
      "418.png (2144, 1424)\n",
      "419.png (2144, 1424)\n",
      "42.png (2144, 1424)\n",
      "420.png (2144, 1424)\n",
      "421.png (2144, 1424)\n",
      "422.png (2144, 1424)\n",
      "423.png (2144, 1424)\n",
      "424.png (2144, 1424)\n",
      "425.png (2144, 1424)\n",
      "426.png (2144, 1424)\n",
      "427.png (2144, 1424)\n",
      "428.png (2144, 1424)\n",
      "429.png (2144, 1424)\n",
      "43.png (2144, 1424)\n",
      "430.png (2144, 1424)\n",
      "431.png (2144, 1424)\n",
      "432.png (2144, 1424)\n",
      "433.png (2144, 1424)\n",
      "434.png (2144, 1424)\n",
      "435.png (2144, 1424)\n",
      "436.png (2144, 1424)\n",
      "437.png (2144, 1424)\n",
      "438.png (2144, 1424)\n",
      "439.png (2144, 1424)\n",
      "44.png (2144, 1424)\n",
      "440.png (4288, 2848)\n",
      "441.png (4288, 2848)\n",
      "442.png (4288, 2848)\n",
      "443.png (4288, 2848)\n",
      "444.png (4288, 2848)\n",
      "445.png (4288, 2848)\n",
      "446.png (4288, 2848)\n",
      "447.png (4288, 2848)\n",
      "448.png (4288, 2848)\n",
      "449.png (4288, 2848)\n",
      "45.png (2144, 1424)\n",
      "450.png (4288, 2848)\n",
      "451.png (4288, 2848)\n",
      "452.png (4288, 2848)\n",
      "453.png (4288, 2848)\n",
      "454.png (4288, 2848)\n",
      "455.png (4288, 2848)\n",
      "456.png (4288, 2848)\n",
      "457.png (4288, 2848)\n",
      "458.png (4288, 2848)\n",
      "459.png (4288, 2848)\n",
      "46.png (2144, 1424)\n",
      "460.png (4288, 2848)\n",
      "461.png (4288, 2848)\n",
      "462.png (4288, 2848)\n",
      "463.png (4288, 2848)\n",
      "464.png (4288, 2848)\n",
      "465.png (4288, 2848)\n",
      "466.png (4288, 2848)\n",
      "467.png (4288, 2848)\n",
      "468.png (4288, 2848)\n",
      "469.png (4288, 2848)\n",
      "47.png (2144, 1424)\n",
      "470.png (4288, 2848)\n",
      "471.png (4288, 2848)\n",
      "472.png (4288, 2848)\n",
      "473.png (4288, 2848)\n",
      "474.png (4288, 2848)\n",
      "475.png (4288, 2848)\n",
      "476.png (4288, 2848)\n",
      "477.png (4288, 2848)\n",
      "478.png (4288, 2848)\n",
      "479.png (4288, 2848)\n",
      "48.png (2144, 1424)\n",
      "480.png (4288, 2848)\n",
      "481.png (4288, 2848)\n",
      "482.png (4288, 2848)\n",
      "483.png (4288, 2848)\n",
      "484.png (4288, 2848)\n",
      "485.png (4288, 2848)\n",
      "486.png (4288, 2848)\n",
      "487.png (4288, 2848)\n",
      "488.png (4288, 2848)\n",
      "489.png (4288, 2848)\n",
      "49.png (2144, 1424)\n",
      "490.png (4288, 2848)\n",
      "491.png (4288, 2848)\n",
      "492.png (4288, 2848)\n",
      "493.png (4288, 2848)\n",
      "494.png (4288, 2848)\n",
      "495.png (4288, 2848)\n",
      "496.png (4288, 2848)\n",
      "497.png (4288, 2848)\n",
      "498.png (4288, 2848)\n",
      "499.png (4288, 2848)\n",
      "5.png (2144, 1424)\n",
      "50.png (2144, 1424)\n",
      "500.png (4288, 2848)\n",
      "501.png (4288, 2848)\n",
      "502.png (4288, 2848)\n",
      "503.png (4288, 2848)\n",
      "504.png (4288, 2848)\n",
      "505.png (4288, 2848)\n",
      "506.png (4288, 2848)\n",
      "507.png (4288, 2848)\n",
      "508.png (4288, 2848)\n",
      "509.png (4288, 2848)\n",
      "51.png (2144, 1424)\n",
      "510.png (4288, 2848)\n",
      "511.png (4288, 2848)\n",
      "512.png (4288, 2848)\n",
      "513.png (4288, 2848)\n",
      "514.png (4288, 2848)\n",
      "515.png (4288, 2848)\n",
      "516.png (4288, 2848)\n",
      "517.png (4288, 2848)\n",
      "518.png (4288, 2848)\n",
      "519.png (4288, 2848)\n",
      "52.png (2144, 1424)\n",
      "520.png (4288, 2848)\n",
      "521.png (4288, 2848)\n",
      "522.png (4288, 2848)\n",
      "523.png (4288, 2848)\n",
      "524.png (4288, 2848)\n",
      "525.png (4288, 2848)\n",
      "526.png (4288, 2848)\n",
      "527.png (4288, 2848)\n",
      "528.png (4288, 2848)\n",
      "529.png (4288, 2848)\n",
      "53.png (2144, 1424)\n",
      "530.png (4288, 2848)\n",
      "531.png (4288, 2848)\n",
      "532.png (4288, 2848)\n",
      "533.png (4288, 2848)\n",
      "534.png (4288, 2848)\n",
      "535.png (4288, 2848)\n",
      "536.png (4288, 2848)\n",
      "537.png (4288, 2848)\n",
      "538.png (2048, 1536)\n",
      "539.png (2048, 1536)\n",
      "54.png (2144, 1424)\n",
      "540.png (2048, 1536)\n",
      "541.png (2048, 1536)\n",
      "542.png (2048, 1536)\n",
      "543.png (2048, 1536)\n",
      "544.png (2048, 1536)\n",
      "545.png (2048, 1536)\n",
      "546.png (2048, 1536)\n",
      "547.png (2048, 1536)\n",
      "548.png (2048, 1536)\n",
      "549.png (2048, 1536)\n",
      "55.png (2144, 1424)\n",
      "550.png (2048, 1536)\n",
      "551.png (2048, 1536)\n",
      "552.png (2048, 1536)\n",
      "553.png (2048, 1536)\n",
      "554.png (2048, 1536)\n",
      "555.png (2048, 1536)\n",
      "556.png (2048, 1536)\n",
      "557.png (2048, 1536)\n",
      "558.png (2048, 1536)\n",
      "559.png (2048, 1536)\n",
      "56.png (2144, 1424)\n",
      "560.png (2048, 1536)\n",
      "561.png (2048, 1536)\n",
      "562.png (2048, 1536)\n",
      "563.png (2048, 1536)\n",
      "564.png (2048, 1536)\n",
      "565.png (2048, 1536)\n",
      "566.png (2048, 1536)\n",
      "567.png (2048, 1536)\n",
      "568.png (2048, 1536)\n",
      "569.png (2048, 1536)\n",
      "57.png (2144, 1424)\n",
      "570.png (2048, 1536)\n",
      "571.png (2048, 1536)\n",
      "572.png (2048, 1536)\n",
      "573.png (2048, 1536)\n",
      "574.png (2048, 1536)\n",
      "575.png (2048, 1536)\n",
      "576.png (2048, 1536)\n",
      "577.png (2048, 1536)\n",
      "578.png (2048, 1536)\n",
      "579.png (2048, 1536)\n",
      "58.png (2144, 1424)\n",
      "580.png (2048, 1536)\n",
      "581.png (2048, 1536)\n",
      "582.png (2048, 1536)\n",
      "583.png (2048, 1536)\n",
      "584.png (2048, 1536)\n",
      "585.png (2048, 1536)\n",
      "586.png (2048, 1536)\n",
      "587.png (2048, 1536)\n",
      "588.png (2048, 1536)\n",
      "589.png (2048, 1536)\n",
      "59.png (2144, 1424)\n",
      "590.png (2048, 1536)\n",
      "591.png (2048, 1536)\n",
      "592.png (2048, 1536)\n",
      "593.png (2048, 1536)\n",
      "594.png (2048, 1536)\n",
      "595.png (4288, 2848)\n",
      "596.png (4288, 2848)\n",
      "597.png (4288, 2848)\n",
      "598.png (4288, 2848)\n",
      "599.png (4288, 2848)\n",
      "6.png (2144, 1424)\n",
      "60.png (2144, 1424)\n",
      "600.png (4288, 2848)\n",
      "601.png (4288, 2848)\n",
      "602.png (4288, 2848)\n",
      "603.png (4288, 2848)\n",
      "604.png (4288, 2848)\n",
      "605.png (4288, 2848)\n",
      "606.png (4288, 2848)\n",
      "607.png (4288, 2848)\n",
      "608.png (4288, 2848)\n",
      "609.png (4288, 2848)\n",
      "61.png (2144, 1424)\n",
      "610.png (4288, 2848)\n",
      "611.png (4288, 2848)\n",
      "612.png (4288, 2848)\n",
      "613.png (4288, 2848)\n",
      "614.png (2048, 1536)\n",
      "615.png (2048, 1536)\n",
      "616.png (2048, 1536)\n",
      "617.png (2048, 1536)\n",
      "618.png (2048, 1536)\n",
      "619.png (2048, 1536)\n",
      "62.png (2144, 1424)\n",
      "620.png (2048, 1536)\n",
      "621.png (2048, 1536)\n",
      "622.png (2048, 1536)\n",
      "623.png (2048, 1536)\n",
      "624.png (2048, 1536)\n",
      "625.png (2048, 1536)\n",
      "626.png (2048, 1536)\n",
      "627.png (2048, 1536)\n",
      "628.png (2048, 1536)\n",
      "629.png (2048, 1536)\n",
      "63.png (2144, 1424)\n",
      "630.png (4288, 2848)\n",
      "631.png (4288, 2848)\n",
      "632.png (4288, 2848)\n",
      "633.png (4288, 2848)\n",
      "634.png (4288, 2848)\n",
      "635.png (4288, 2848)\n",
      "636.png (4288, 2848)\n",
      "637.png (4288, 2848)\n",
      "638.png (4288, 2848)\n",
      "639.png (4288, 2848)\n",
      "64.png (2144, 1424)\n",
      "640.png (4288, 2848)\n",
      "65.png (2144, 1424)\n",
      "66.png (2144, 1424)\n",
      "67.png (2144, 1424)\n",
      "68.png (2144, 1424)\n",
      "69.png (2144, 1424)\n",
      "7.png (2144, 1424)\n",
      "70.png (2144, 1424)\n",
      "71.png (2144, 1424)\n",
      "72.png (2144, 1424)\n",
      "73.png (2144, 1424)\n",
      "74.png (2144, 1424)\n",
      "75.png (2144, 1424)\n",
      "76.png (2144, 1424)\n",
      "77.png (2144, 1424)\n",
      "78.png (2144, 1424)\n",
      "79.png (2144, 1424)\n",
      "8.png (2144, 1424)\n",
      "80.png (2144, 1424)\n",
      "81.png (2144, 1424)\n",
      "82.png (2144, 1424)\n",
      "83.png (2144, 1424)\n",
      "84.png (2144, 1424)\n",
      "85.png (2144, 1424)\n",
      "86.png (2144, 1424)\n",
      "87.png (2144, 1424)\n",
      "88.png (2144, 1424)\n",
      "89.png (2144, 1424)\n",
      "9.png (2144, 1424)\n",
      "90.png (2144, 1424)\n",
      "91.png (2144, 1424)\n",
      "92.png (2144, 1424)\n",
      "93.png (2144, 1424)\n",
      "94.png (2144, 1424)\n",
      "95.png (2144, 1424)\n",
      "96.png (2144, 1424)\n",
      "97.png (2144, 1424)\n",
      "98.png (2144, 1424)\n",
      "99.png (2144, 1424)\n",
      "640\n"
     ]
    }
   ],
   "source": [
    "# Open and close each images in the folder and print their name and pixel resolution\n",
    "for image_name in os.listdir(folder_images_test):\n",
    "    image_path = os.path.join(folder_images_test, image_name)\n",
    "    image = Image.open(image_path)\n",
    "    print(image_name, image.size)\n",
    "    image.close()\n",
    "    \n",
    "# Len of the folder\n",
    "print(len(os.listdir(folder_images_test)))"
   ],
   "metadata": {
    "collapsed": false,
    "ExecuteTime": {
     "end_time": "2023-10-28T10:06:09.687829500Z",
     "start_time": "2023-10-28T10:06:09.618573700Z"
    }
   },
   "id": "ed972e66a4d12fcf"
  },
  {
   "cell_type": "code",
   "execution_count": 7,
   "outputs": [
    {
     "name": "stdout",
     "output_type": "stream",
     "text": [
      "128\n",
      "['440.png', '441.png', '442.png', '443.png', '444.png', '445.png', '446.png', '447.png', '448.png', '449.png', '450.png', '451.png', '452.png', '453.png', '454.png', '455.png', '456.png', '457.png', '458.png', '459.png', '460.png', '461.png', '462.png', '463.png', '464.png', '465.png', '466.png', '467.png', '468.png', '469.png', '470.png', '471.png', '472.png', '473.png', '474.png', '475.png', '476.png', '477.png', '478.png', '479.png', '480.png', '481.png', '482.png', '483.png', '484.png', '485.png', '486.png', '487.png', '488.png', '489.png', '490.png', '491.png', '492.png', '493.png', '494.png', '495.png', '496.png', '497.png', '498.png', '499.png', '500.png', '501.png', '502.png', '503.png', '504.png', '505.png', '506.png', '507.png', '508.png', '509.png', '510.png', '511.png', '512.png', '513.png', '514.png', '515.png', '516.png', '517.png', '518.png', '519.png', '520.png', '521.png', '522.png', '523.png', '524.png', '525.png', '526.png', '527.png', '528.png', '529.png', '530.png', '531.png', '532.png', '533.png', '534.png', '535.png', '536.png', '537.png', '595.png', '596.png', '597.png', '598.png', '599.png', '600.png', '601.png', '602.png', '603.png', '604.png', '605.png', '606.png', '607.png', '608.png', '609.png', '610.png', '611.png', '612.png', '613.png', '630.png', '631.png', '632.png', '633.png', '634.png', '635.png', '636.png', '637.png', '638.png', '639.png', '640.png']\n"
     ]
    }
   ],
   "source": [
    "# Create a list of the names of images that have a size of 4288x2848 pixels\n",
    "image_names_4288_2848 = []\n",
    "for image_name in os.listdir(folder_images_test):\n",
    "    image_path = os.path.join(folder_images_test, image_name)\n",
    "    image = Image.open(image_path)\n",
    "    if image.size == (4288, 2848):\n",
    "        image_names_4288_2848.append(image_name)\n",
    "    image.close()\n",
    "    \n",
    "# Print the length of the created list\n",
    "print(len(image_names_4288_2848))\n",
    "print(image_names_4288_2848)"
   ],
   "metadata": {
    "collapsed": false,
    "ExecuteTime": {
     "end_time": "2023-10-28T10:07:57.339661Z",
     "start_time": "2023-10-28T10:07:57.281581800Z"
    }
   },
   "id": "667fe665bd9ec2f7"
  },
  {
   "cell_type": "code",
   "execution_count": 10,
   "outputs": [],
   "source": [
    "# Remove in the list every \".png\" in the name of the images\n",
    "image_names_4288_2848 = [image_name.replace('.png', '') for image_name in image_names_4288_2848]"
   ],
   "metadata": {
    "collapsed": false,
    "ExecuteTime": {
     "end_time": "2023-10-28T10:09:25.347581500Z",
     "start_time": "2023-10-28T10:09:25.325265500Z"
    }
   },
   "id": "25dda75106c6f7cd"
  },
  {
   "cell_type": "code",
   "execution_count": 13,
   "outputs": [],
   "source": [
    "# Convert each element in the list to an integer\n",
    "image_names_4288_2848 = [int(image_name) for image_name in image_names_4288_2848]"
   ],
   "metadata": {
    "collapsed": false,
    "ExecuteTime": {
     "end_time": "2023-10-28T10:12:16.851383900Z",
     "start_time": "2023-10-28T10:12:16.813857200Z"
    }
   },
   "id": "19dde5bf0eda362"
  },
  {
   "cell_type": "code",
   "execution_count": 14,
   "outputs": [
    {
     "name": "stdout",
     "output_type": "stream",
     "text": [
      "(512, 47)\n"
     ]
    }
   ],
   "source": [
    "# Remove from the dataframe the images that have a size of 4288x2848 pixels\n",
    "df_test = df_test[~df_test['ID'].isin(image_names_4288_2848)]\n",
    "\n",
    "# Print the shape of the dataframe\n",
    "print(df_test.shape)"
   ],
   "metadata": {
    "collapsed": false,
    "ExecuteTime": {
     "end_time": "2023-10-28T10:12:18.855917400Z",
     "start_time": "2023-10-28T10:12:18.830197Z"
    }
   },
   "id": "b216dc74b0ff28d5"
  },
  {
   "cell_type": "code",
   "execution_count": 15,
   "outputs": [
    {
     "ename": "PermissionError",
     "evalue": "[WinError 32] Le processus ne peut pas accéder au fichier car ce fichier est utilisé par un autre processus: 'C:\\\\Data\\\\Projet CODE\\\\Code Python\\\\DataCamp Code\\\\data\\\\preparing_model\\\\images_test\\\\440.png'",
     "output_type": "error",
     "traceback": [
      "\u001B[1;31m---------------------------------------------------------------------------\u001B[0m",
      "\u001B[1;31mPermissionError\u001B[0m                           Traceback (most recent call last)",
      "Cell \u001B[1;32mIn[15], line 6\u001B[0m\n\u001B[0;32m      4\u001B[0m image \u001B[38;5;241m=\u001B[39m Image\u001B[38;5;241m.\u001B[39mopen(image_path)\n\u001B[0;32m      5\u001B[0m \u001B[38;5;28;01mif\u001B[39;00m image\u001B[38;5;241m.\u001B[39msize \u001B[38;5;241m==\u001B[39m (\u001B[38;5;241m4288\u001B[39m, \u001B[38;5;241m2848\u001B[39m):\n\u001B[1;32m----> 6\u001B[0m     os\u001B[38;5;241m.\u001B[39mremove(image_path)\n\u001B[0;32m      7\u001B[0m image\u001B[38;5;241m.\u001B[39mclose()\n",
      "\u001B[1;31mPermissionError\u001B[0m: [WinError 32] Le processus ne peut pas accéder au fichier car ce fichier est utilisé par un autre processus: 'C:\\\\Data\\\\Projet CODE\\\\Code Python\\\\DataCamp Code\\\\data\\\\preparing_model\\\\images_test\\\\440.png'"
     ]
    }
   ],
   "source": [
    "# Remove in the folder every image that have a size of 4288x2848 pixels\n",
    "for image_name in os.listdir(folder_images_test):\n",
    "    image_path = os.path.join(folder_images_test, image_name)\n",
    "    image = Image.open(image_path)\n",
    "    if image.size == (4288, 2848):\n",
    "        os.remove(image_path)\n",
    "    image.close()\n"
   ],
   "metadata": {
    "collapsed": false,
    "ExecuteTime": {
     "end_time": "2023-10-28T10:35:05.064214100Z",
     "start_time": "2023-10-28T10:35:04.856365900Z"
    }
   },
   "id": "724d6e70ca2da9e5"
  },
  {
   "cell_type": "code",
   "execution_count": 16,
   "outputs": [
    {
     "name": "stdout",
     "output_type": "stream",
     "text": [
      "640\n"
     ]
    }
   ],
   "source": [
    "# Len of the folder\n",
    "print(len(os.listdir(folder_images_test)))"
   ],
   "metadata": {
    "collapsed": false,
    "ExecuteTime": {
     "end_time": "2023-10-28T10:35:24.854690800Z",
     "start_time": "2023-10-28T10:35:24.817724800Z"
    }
   },
   "id": "bf17503aa8958816"
  },
  {
   "cell_type": "code",
   "execution_count": null,
   "outputs": [],
   "source": [
    "# Delete randomly 344 rows in the dataframe that their Disease_Risk is 1\n",
    "df_test = df_test.drop(df_test[df_test['Disease_Risk'] == 1].sample(n=344, random_state=42).index)"
   ],
   "metadata": {
    "collapsed": false
   },
   "id": "aba86d13dffd92fa"
  },
  {
   "cell_type": "code",
   "execution_count": 17,
   "outputs": [],
   "source": [
    "validation_path = (r\"C:\\Data\\Projet CODE\\Code Python\\DataCamp Code\\data\\preparing_model\\RFMiD_Testing_Labels.csv\")\n",
    "\n",
    "# read data\n",
    "df_validation = pd.read_csv(validation_path)"
   ],
   "metadata": {
    "collapsed": false,
    "ExecuteTime": {
     "end_time": "2023-10-28T11:03:35.636504Z",
     "start_time": "2023-10-28T11:03:35.609459Z"
    }
   },
   "id": "ea91fd7ad68850dd"
  },
  {
   "cell_type": "markdown",
   "source": [],
   "metadata": {
    "collapsed": false
   },
   "id": "cc24d54c822c0d01"
  },
  {
   "cell_type": "code",
   "execution_count": 18,
   "outputs": [
    {
     "name": "stdout",
     "output_type": "stream",
     "text": [
      "Disease_Risk\n",
      "1    506\n",
      "0    134\n",
      "Name: count, dtype: int64\n"
     ]
    }
   ],
   "source": [
    "# value counts on 'Disease_Risk'\n",
    "print(df_validation['Disease_Risk'].value_counts())"
   ],
   "metadata": {
    "collapsed": false,
    "ExecuteTime": {
     "end_time": "2023-10-28T11:03:41.592723100Z",
     "start_time": "2023-10-28T11:03:41.583212500Z"
    }
   },
   "id": "88dfc06c6d92ee65"
  },
  {
   "cell_type": "code",
   "execution_count": 26,
   "outputs": [],
   "source": [
    "# path of keras model\n",
    "model_path = r\"C:\\Data\\Projet CODE\\Code Python\\DataCamp Code\\data\\ressources\\H5\\keras_model.h5\""
   ],
   "metadata": {
    "collapsed": false,
    "ExecuteTime": {
     "end_time": "2023-10-28T11:59:22.000472200Z",
     "start_time": "2023-10-28T11:59:21.990246600Z"
    }
   },
   "id": "181da1cb63257533"
  },
  {
   "cell_type": "code",
   "execution_count": 27,
   "outputs": [],
   "source": [
    "# import tensorflow for predict with model h5\n",
    "import tensorflow as tf\n",
    "from tensorflow import keras\n",
    "from keras.models import load_model\n",
    "import numpy as np"
   ],
   "metadata": {
    "collapsed": false,
    "ExecuteTime": {
     "end_time": "2023-10-28T11:59:23.422161400Z",
     "start_time": "2023-10-28T11:59:23.409157100Z"
    }
   },
   "id": "c18f2dea216d40f8"
  },
  {
   "cell_type": "code",
   "execution_count": 28,
   "outputs": [
    {
     "name": "stdout",
     "output_type": "stream",
     "text": [
      "WARNING:tensorflow:No training configuration found in the save file, so the model was *not* compiled. Compile it manually.\n"
     ]
    }
   ],
   "source": [
    "# Do a prediction with the model\n",
    "model = load_model(model_path)"
   ],
   "metadata": {
    "collapsed": false,
    "ExecuteTime": {
     "end_time": "2023-10-28T11:59:26.371220300Z",
     "start_time": "2023-10-28T11:59:24.724447800Z"
    }
   },
   "id": "c261f46066806e5c"
  },
  {
   "cell_type": "code",
   "execution_count": 29,
   "outputs": [],
   "source": [
    "# compile the model (0 = no disease, 1 = disease)\n",
    "model.compile(optimizer='adam',\n",
    "              loss='binary_crossentropy',\n",
    "              metrics=['accuracy'])"
   ],
   "metadata": {
    "collapsed": false,
    "ExecuteTime": {
     "end_time": "2023-10-28T12:00:07.509355Z",
     "start_time": "2023-10-28T12:00:07.480154900Z"
    }
   },
   "id": "f4ec903ff793bddc"
  },
  {
   "cell_type": "code",
   "execution_count": 34,
   "outputs": [
    {
     "name": "stdout",
     "output_type": "stream",
     "text": [
      "1/1 [==============================] - 0s 28ms/step\n"
     ]
    }
   ],
   "source": [
    "# Predict only one image in the folder\n",
    "image_path = r\"C:\\Data\\Projet CODE\\Code Python\\DataCamp Code\\data\\preparing_model\\images_test\\499.png\"\n",
    "image = tf.keras.preprocessing.image.load_img(image_path, target_size=(224, 224))\n",
    "input_arr = keras.preprocessing.image.img_to_array(image)\n",
    "input_arr = np.array([input_arr])  # Convert single image to a batch.\n",
    "predictions = model.predict(input_arr)\n"
   ],
   "metadata": {
    "collapsed": false,
    "ExecuteTime": {
     "end_time": "2023-10-28T12:01:51.873279300Z",
     "start_time": "2023-10-28T12:01:51.548561600Z"
    }
   },
   "id": "c1f5cb87184de75a"
  },
  {
   "cell_type": "code",
   "execution_count": 35,
   "outputs": [
    {
     "name": "stdout",
     "output_type": "stream",
     "text": [
      "[[0.00167524 0.9983248 ]]\n"
     ]
    }
   ],
   "source": [
    "print(predictions)"
   ],
   "metadata": {
    "collapsed": false,
    "ExecuteTime": {
     "end_time": "2023-10-28T12:01:53.897168900Z",
     "start_time": "2023-10-28T12:01:53.886166Z"
    }
   },
   "id": "71dec1562b96e7d0"
  },
  {
   "cell_type": "code",
   "execution_count": 40,
   "outputs": [],
   "source": [
    "from keras.models import load_model\n",
    "from PIL import Image, ImageOps\n",
    "import numpy as np\n",
    "\n",
    "# Disable scientific notation for clarity\n",
    "np.set_printoptions(suppress=True)\n",
    "\n",
    "# Load the model\n",
    "model = load_model(\"../../data/ressources/H5/Test/keras_model.h5\", compile=False)\n",
    "\n",
    "# Load the labels\n",
    "class_names = open(\"../../data/ressources/H5/Test/labels.txt\").readlines()\n",
    "\n",
    "# Create the array of the right shape to feed into the keras model\n",
    "data = np.ndarray(shape=(1, 224, 224, 3), dtype=np.float32)\n",
    "\n",
    "# Update the image path here\n",
    "image_path = r\"C:\\Data\\Projet CODE\\Code Python\\DataCamp Code\\data\\preparing_model\\images_test\\531.png\"\n",
    "image = Image.open(image_path).convert(\"RGB\")\n",
    "\n",
    "# Redimensionnement pour conserver l'aspect et recadrage pour obtenir une taille de 224x224\n",
    "size = (224, 224)\n",
    "image = ImageOps.fit(image, size, Image.Resampling.LANCZOS)\n",
    "\n",
    "# Convert the image to a numpy array\n",
    "image_array = np.asarray(image)\n",
    "\n",
    "# Normalize the image\n",
    "normalized_image_array = (image_array.astype(np.float32) / 127.5) - 1\n",
    "\n",
    "# Load the image into the array\n",
    "data[0] = normalized_image_array"
   ],
   "metadata": {
    "collapsed": false,
    "ExecuteTime": {
     "end_time": "2023-10-28T12:09:48.829097400Z",
     "start_time": "2023-10-28T12:09:46.928255200Z"
    }
   },
   "id": "f3a0663dd47e3bb3"
  },
  {
   "cell_type": "code",
   "execution_count": 41,
   "outputs": [
    {
     "name": "stdout",
     "output_type": "stream",
     "text": [
      "1/1 [==============================] - 1s 778ms/step\n"
     ]
    }
   ],
   "source": [
    "\n",
    "# Run the prediction\n",
    "prediction = model.predict(data)\n",
    "index = np.argmax(prediction)\n",
    "class_name = class_names[index]\n",
    "confidence_score = prediction[0][index]"
   ],
   "metadata": {
    "collapsed": false,
    "ExecuteTime": {
     "end_time": "2023-10-28T12:09:52.613447100Z",
     "start_time": "2023-10-28T12:09:51.798581500Z"
    }
   },
   "id": "43ddc5c10ef8538"
  },
  {
   "cell_type": "code",
   "execution_count": 42,
   "outputs": [
    {
     "name": "stdout",
     "output_type": "stream",
     "text": [
      "Class: 0 No_Disease_R...Confidence Score: 0.9958073\n"
     ]
    }
   ],
   "source": [
    "\n",
    "# Print prediction and confidence score\n",
    "print(\"Class:\", class_name.strip(), end=\"\")  # Using strip() to remove any leading/trailing whitespace or newline\n",
    "print(\"Confidence Score:\", confidence_score)"
   ],
   "metadata": {
    "collapsed": false,
    "ExecuteTime": {
     "end_time": "2023-10-28T12:09:54.109374100Z",
     "start_time": "2023-10-28T12:09:54.085370900Z"
    }
   },
   "id": "71ddc8fdd009eb3d"
  },
  {
   "cell_type": "code",
   "execution_count": null,
   "outputs": [],
   "source": [],
   "metadata": {
    "collapsed": false
   },
   "id": "32ff3a5fe3bc0d84"
  },
  {
   "cell_type": "code",
   "execution_count": null,
   "outputs": [],
   "source": [],
   "metadata": {
    "collapsed": false
   },
   "id": "7ca2717ba914cd1d"
  },
  {
   "cell_type": "code",
   "execution_count": null,
   "outputs": [],
   "source": [],
   "metadata": {
    "collapsed": false
   },
   "id": "e0ddadf21e14e3fd"
  },
  {
   "cell_type": "code",
   "execution_count": null,
   "outputs": [],
   "source": [],
   "metadata": {
    "collapsed": false
   },
   "id": "cf4d17deb6c11e3e"
  },
  {
   "cell_type": "code",
   "execution_count": null,
   "outputs": [],
   "source": [],
   "metadata": {
    "collapsed": false
   },
   "id": "b35ec8d6f66fd703"
  },
  {
   "cell_type": "code",
   "execution_count": null,
   "outputs": [],
   "source": [],
   "metadata": {
    "collapsed": false
   },
   "id": "5235b6a0858ad993"
  },
  {
   "cell_type": "code",
   "execution_count": null,
   "outputs": [],
   "source": [],
   "metadata": {
    "collapsed": false
   },
   "id": "aaa19d8958402876"
  },
  {
   "cell_type": "code",
   "execution_count": null,
   "outputs": [],
   "source": [],
   "metadata": {
    "collapsed": false
   },
   "id": "2554860ebafd3c3c"
  },
  {
   "cell_type": "code",
   "execution_count": null,
   "outputs": [],
   "source": [],
   "metadata": {
    "collapsed": false
   },
   "id": "3c690f10778bbbe5"
  },
  {
   "cell_type": "code",
   "execution_count": null,
   "outputs": [],
   "source": [],
   "metadata": {
    "collapsed": false
   },
   "id": "4cede34b37ec9bbc"
  },
  {
   "cell_type": "code",
   "execution_count": null,
   "outputs": [],
   "source": [],
   "metadata": {
    "collapsed": false
   },
   "id": "448e52cffbe5a435"
  },
  {
   "cell_type": "code",
   "execution_count": null,
   "outputs": [],
   "source": [],
   "metadata": {
    "collapsed": false
   },
   "id": "dd3623ac0eaa966a"
  },
  {
   "cell_type": "code",
   "execution_count": null,
   "outputs": [],
   "source": [],
   "metadata": {
    "collapsed": false
   },
   "id": "71f569ed03d5ab9d"
  },
  {
   "cell_type": "code",
   "execution_count": null,
   "outputs": [],
   "source": [],
   "metadata": {
    "collapsed": false
   },
   "id": "c4d11da5ba9f9c20"
  },
  {
   "cell_type": "code",
   "execution_count": null,
   "outputs": [],
   "source": [],
   "metadata": {
    "collapsed": false
   },
   "id": "8d3abaa1c61018b9"
  },
  {
   "cell_type": "code",
   "execution_count": null,
   "outputs": [],
   "source": [],
   "metadata": {
    "collapsed": false
   },
   "id": "38f37fe80d1e1eda"
  },
  {
   "cell_type": "code",
   "execution_count": null,
   "outputs": [],
   "source": [],
   "metadata": {
    "collapsed": false
   },
   "id": "64705db7a2023f54"
  },
  {
   "cell_type": "code",
   "execution_count": null,
   "outputs": [],
   "source": [],
   "metadata": {
    "collapsed": false
   },
   "id": "7b70e5ac2889007a"
  }
 ],
 "metadata": {
  "kernelspec": {
   "display_name": "Python 3",
   "language": "python",
   "name": "python3"
  },
  "language_info": {
   "codemirror_mode": {
    "name": "ipython",
    "version": 2
   },
   "file_extension": ".py",
   "mimetype": "text/x-python",
   "name": "python",
   "nbconvert_exporter": "python",
   "pygments_lexer": "ipython2",
   "version": "2.7.6"
  }
 },
 "nbformat": 4,
 "nbformat_minor": 5
}
