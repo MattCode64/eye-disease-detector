{
 "cells": [
  {
   "cell_type": "code",
   "execution_count": 1,
   "id": "initial_id",
   "metadata": {
    "collapsed": true,
    "ExecuteTime": {
     "end_time": "2023-10-13T09:57:54.199652800Z",
     "start_time": "2023-10-13T09:57:52.900341Z"
    }
   },
   "outputs": [
    {
     "name": "stdout",
     "output_type": "stream",
     "text": [
      "--- IMPORT DONE ---\n"
     ]
    }
   ],
   "source": [
    "import pandas as pd\n",
    "\n",
    "print(\"--- IMPORT DONE ---\")"
   ]
  },
  {
   "cell_type": "markdown",
   "source": [
    "# Data Import"
   ],
   "metadata": {
    "collapsed": false
   },
   "id": "92901b4e3f83540c"
  },
  {
   "cell_type": "code",
   "execution_count": 3,
   "outputs": [],
   "source": [
    "# 3 path variables for validation, training and test csv files\n",
    "path_val = r\"C:\\Data\\Projet CODE\\Code Python\\DataCamp Code\\data\\eyes-dataset\\Evaluation_Set\\Evaluation_Set\\Files_to_delete_Val.csv\"\n",
    "path_test = r\"C:\\Data\\Projet CODE\\Code Python\\DataCamp Code\\data\\eyes-dataset\\Test_Set\\Test_Set\\Files_to_delete_Test.csv\"\n",
    "path_train = r\"C:\\Data\\Projet CODE\\Code Python\\DataCamp Code\\data\\eyes-dataset\\Training_Set\\Training_Set\\Files_to_delete_Train.csv\""
   ],
   "metadata": {
    "collapsed": false,
    "ExecuteTime": {
     "end_time": "2023-10-13T10:02:08.914639400Z",
     "start_time": "2023-10-13T10:02:08.908118100Z"
    }
   },
   "id": "1bfd100f8a9508aa"
  },
  {
   "cell_type": "code",
   "execution_count": 4,
   "outputs": [],
   "source": [
    "# 3 path variables for validation, training and test dataframes\n",
    "path_val_df = r\"C:\\Data\\Projet CODE\\Code Python\\DataCamp Code\\data\\eyes-dataset\\Evaluation_Set\\Evaluation_Set\\RFMiD_Validation_Labels.csv\"\n",
    "path_test_df = r\"C:\\Data\\Projet CODE\\Code Python\\DataCamp Code\\data\\eyes-dataset\\Test_Set\\Test_Set\\RFMiD_Testing_Labels.csv\"\n",
    "path_train_df = r\"C:\\Data\\Projet CODE\\Code Python\\DataCamp Code\\data\\eyes-dataset\\Training_Set\\Training_Set\\RFMiD_Training_Labels.csv\""
   ],
   "metadata": {
    "collapsed": false,
    "ExecuteTime": {
     "end_time": "2023-10-13T10:04:08.439194300Z",
     "start_time": "2023-10-13T10:04:08.431684100Z"
    }
   },
   "id": "a4b4fe09ad048ae"
  },
  {
   "cell_type": "code",
   "execution_count": 15,
   "outputs": [],
   "source": [
    "# 3 path variables for validation, training and test dataframes to save as csv files\n",
    "path_val_df_save = r\"C:\\Data\\Projet CODE\\Code Python\\DataCamp Code\\data\\eyes-dataset\\Evaluation_Set\\Evaluation_Set\\RFMiD_Validation_Labels_clean.csv\"\n",
    "path_test_df_save = r\"C:\\Data\\Projet CODE\\Code Python\\DataCamp Code\\data\\eyes-dataset\\Test_Set\\Test_Set\\RFMiD_Testing_Labels_clean.csv\"\n",
    "path_train_df_save = r\"C:\\Data\\Projet CODE\\Code Python\\DataCamp Code\\data\\eyes-dataset\\Training_Set\\Training_Set\\RFMiD_Training_Labels_clean.csv\""
   ],
   "metadata": {
    "collapsed": false,
    "ExecuteTime": {
     "end_time": "2023-10-13T11:36:40.498508Z",
     "start_time": "2023-10-13T11:36:40.490000100Z"
    }
   },
   "id": "c4a9f1408b4beb88"
  },
  {
   "cell_type": "code",
   "execution_count": 5,
   "outputs": [],
   "source": [
    "# Creating dataframes\n",
    "df_val = pd.read_csv(path_val_df, sep=',')\n",
    "df_test = pd.read_csv(path_test_df, sep=',')\n",
    "df_train = pd.read_csv(path_train_df, sep=',')"
   ],
   "metadata": {
    "collapsed": false,
    "ExecuteTime": {
     "end_time": "2023-10-13T10:04:40.917706400Z",
     "start_time": "2023-10-13T10:04:40.866503500Z"
    }
   },
   "id": "f93df9189846cdb4"
  },
  {
   "cell_type": "code",
   "execution_count": 6,
   "outputs": [
    {
     "name": "stdout",
     "output_type": "stream",
     "text": [
      "Shape of validation dataframe:  (640, 47)\n",
      "Shape of test dataframe:  (640, 47)\n",
      "Shape of train dataframe:  (1920, 47)\n"
     ]
    }
   ],
   "source": [
    "# Shape of dataframes\n",
    "print(\"Shape of validation dataframe: \", df_val.shape)\n",
    "print(\"Shape of test dataframe: \", df_test.shape)\n",
    "print(\"Shape of train dataframe: \", df_train.shape)"
   ],
   "metadata": {
    "collapsed": false,
    "ExecuteTime": {
     "end_time": "2023-10-13T10:04:51.959382200Z",
     "start_time": "2023-10-13T10:04:51.952869400Z"
    }
   },
   "id": "718510a0cd4babfb"
  },
  {
   "cell_type": "code",
   "execution_count": 7,
   "outputs": [],
   "source": [
    "# Creating dataframe with files to delete\n",
    "df_val_del = pd.read_csv(path_val)\n",
    "df_test_del = pd.read_csv(path_test)\n",
    "df_train_del = pd.read_csv(path_train)"
   ],
   "metadata": {
    "collapsed": false,
    "ExecuteTime": {
     "end_time": "2023-10-13T10:05:16.052522900Z",
     "start_time": "2023-10-13T10:05:16.038469900Z"
    }
   },
   "id": "bec20b298443c837"
  },
  {
   "cell_type": "code",
   "execution_count": 8,
   "outputs": [
    {
     "name": "stdout",
     "output_type": "stream",
     "text": [
      "Shape of validation dataframe:  (92, 1)\n",
      "Shape of test dataframe:  (128, 1)\n",
      "Shape of train dataframe:  (277, 1)\n"
     ]
    }
   ],
   "source": [
    "# Shape of dataframes files to delete\n",
    "print(\"Shape of validation dataframe: \", df_val_del.shape)\n",
    "print(\"Shape of test dataframe: \", df_test_del.shape)\n",
    "print(\"Shape of train dataframe: \", df_train_del.shape)"
   ],
   "metadata": {
    "collapsed": false,
    "ExecuteTime": {
     "end_time": "2023-10-13T10:05:28.678199800Z",
     "start_time": "2023-10-13T10:05:28.672464700Z"
    }
   },
   "id": "a8fb0c43977eb775"
  },
  {
   "cell_type": "code",
   "execution_count": 12,
   "outputs": [],
   "source": [
    "df_val = df_val[~df_val['ID'].isin(df_val_del['File_to_delete'])]\n",
    "df_test = df_test[~df_test['ID'].isin(df_test_del['File_to_delete'])]\n",
    "df_train = df_train[~df_train['ID'].isin(df_train_del['File_to_delete'])]"
   ],
   "metadata": {
    "collapsed": false,
    "ExecuteTime": {
     "end_time": "2023-10-13T11:34:56.920753800Z",
     "start_time": "2023-10-13T11:34:56.912454600Z"
    }
   },
   "id": "49b0e9efaac71d1f"
  },
  {
   "cell_type": "code",
   "execution_count": 13,
   "outputs": [
    {
     "name": "stdout",
     "output_type": "stream",
     "text": [
      "Shape of validation dataframe:  (548, 47)\n",
      "Shape of test dataframe:  (512, 47)\n",
      "Shape of train dataframe:  (1643, 47)\n"
     ]
    }
   ],
   "source": [
    "# Shape of dataframes\n",
    "print(\"Shape of validation dataframe: \", df_val.shape)\n",
    "print(\"Shape of test dataframe: \", df_test.shape)\n",
    "print(\"Shape of train dataframe: \", df_train.shape)"
   ],
   "metadata": {
    "collapsed": false,
    "ExecuteTime": {
     "end_time": "2023-10-13T11:35:07.121487700Z",
     "start_time": "2023-10-13T11:35:07.115511700Z"
    }
   },
   "id": "499cf88e8a482d0f"
  },
  {
   "cell_type": "code",
   "execution_count": 16,
   "outputs": [],
   "source": [
    "# Saving dataframes as csv files\n",
    "df_val.to_csv(path_val_df_save, index=False, sep=',')\n",
    "df_test.to_csv(path_test_df_save, index=False, sep=',')\n",
    "df_train.to_csv(path_train_df_save, index=False, sep=',')"
   ],
   "metadata": {
    "collapsed": false,
    "ExecuteTime": {
     "end_time": "2023-10-13T11:36:43.178287900Z",
     "start_time": "2023-10-13T11:36:43.157764500Z"
    }
   },
   "id": "806643e9ecee65dc"
  }
 ],
 "metadata": {
  "kernelspec": {
   "display_name": "Python 3",
   "language": "python",
   "name": "python3"
  },
  "language_info": {
   "codemirror_mode": {
    "name": "ipython",
    "version": 2
   },
   "file_extension": ".py",
   "mimetype": "text/x-python",
   "name": "python",
   "nbconvert_exporter": "python",
   "pygments_lexer": "ipython2",
   "version": "2.7.6"
  }
 },
 "nbformat": 4,
 "nbformat_minor": 5
}
